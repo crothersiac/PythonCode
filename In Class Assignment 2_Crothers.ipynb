{
 "cells": [
  {
   "cell_type": "markdown",
   "metadata": {},
   "source": [
    "<img src=\"https://pynative.com/wp-content/uploads/2021/03/python-list.jpg\">"
   ]
  },
  {
   "cell_type": "markdown",
   "metadata": {},
   "source": [
    "# Solve problems 1-5\n",
    "# If you need help, please use Chapter 3 & 4 in the Python Crash Course book and Chapter 3.1 in Python for Data Analysis"
   ]
  },
  {
   "cell_type": "code",
   "execution_count": 7,
   "metadata": {},
   "outputs": [
    {
     "name": "stdout",
     "output_type": "stream",
     "text": [
      "[88, 71, 54, 37, 20, 3, 3, 20, 37, 54, 71, 88]\n"
     ]
    }
   ],
   "source": [
    "#1. Sorting Lists\n",
    "# Write a python program to sort a list, and then concatenate the reverse list to it\n",
    "\n",
    "# sample list: [2,4,3,1,5]\n",
    "# expected results: [5,4,3,2,1,1,2,3,4,5]\n",
    "\n",
    "a_list = list(range(3,100,17))\n",
    "import copy\n",
    "b_list = copy.copy(a_list)\n",
    "\n",
    "a_list.sort()\n",
    "b_list.sort(reverse=True)\n",
    "\n",
    "a_list = b_list + a_list\n",
    "\n",
    "print(a_list)\n"
   ]
  },
  {
   "cell_type": "code",
   "execution_count": 6,
   "metadata": {},
   "outputs": [
    {
     "name": "stdout",
     "output_type": "stream",
     "text": [
      "[(78, 5), (57, 7), (56, 3), (29, 6), (4, 35)]\n"
     ]
    }
   ],
   "source": [
    "#2. Sorting Tuples in a list\n",
    "#Write a Python program which receives a list of tuples.  \n",
    "#The output should be a list of the tuples in descending order.\n",
    "\n",
    "#Sample List : [(2, 5), (1, 2), (4, 4), (2, 3), (2, 1)]\n",
    "#Expected Result : [(4, 4), (2, 5), (2, 3), (2, 1), (1, 2)]\n",
    "\n",
    "tuple_list = [(56,3),(4,35),(78,5),(29,6),(57,7)]\n",
    "    \n",
    "tuple_list.sort(reverse=True)\n",
    "\n",
    "print(tuple_list)\n"
   ]
  },
  {
   "cell_type": "code",
   "execution_count": 5,
   "metadata": {},
   "outputs": [
    {
     "name": "stdout",
     "output_type": "stream",
     "text": [
      "[1, 4, 9, 16, 25, 676, 729, 784, 841, 900]\n"
     ]
    }
   ],
   "source": [
    "#3. List Comprehension/ For Loop\n",
    "#Write a Python program to create a list of numbers whose values are the squares of numbers 1 through 30.  \n",
    "#Print the first and last 5 members into ONE list.\n",
    "\n",
    "#Output: [\"1\",\"4\",\"9\",\"16\", \"25\", \"625\",\"676\", \"729\",\"784\", \"900\"]\n",
    "\n",
    "numbers = list()\n",
    "for i in range(1,31):\n",
    "    numbers.append(i**2)\n",
    "    \n",
    "first_five = numbers[0:5]\n",
    "last_five = numbers[25:31]\n",
    "good_nums = first_five + last_five\n",
    "\n",
    "print(good_nums)\n"
   ]
  },
  {
   "cell_type": "code",
   "execution_count": 4,
   "metadata": {},
   "outputs": [
    {
     "name": "stdout",
     "output_type": "stream",
     "text": [
      "['My', 'name', 'is', 'Alyssa']\n"
     ]
    }
   ],
   "source": [
    "#4. Problem: Concatenate two lists\n",
    "\n",
    "# Input: Two lists of strings:\n",
    "list1 = [\"M\", \"na\", \"i\", \"Aly\"]\n",
    "list2 = [\"y\", \"me\", \"s\", \"ssa\"]\n",
    "\n",
    "# Output:  Combine the output of the two lists into a string with spaces in between the words – My name is Alyssa\n",
    "\n",
    "list3 = [i+j for i,j in zip(list1,list2)]\n",
    "\n",
    "print(list3)"
   ]
  },
  {
   "cell_type": "code",
   "execution_count": 1,
   "metadata": {
    "scrolled": true
   },
   "outputs": [
    {
     "name": "stdout",
     "output_type": "stream",
     "text": [
      "Please enter an integer value: 56\n",
      "2\n",
      "3\n",
      "5\n",
      "7\n",
      "11\n",
      "13\n",
      "17\n",
      "19\n",
      "23\n",
      "29\n",
      "31\n",
      "37\n",
      "41\n",
      "43\n",
      "47\n",
      "53\n"
     ]
    }
   ],
   "source": [
    "#5. List Comprehension\n",
    "# Prime number is greater than 1, a whole number, and is only divisible by one and itself.\n",
    "# Accepts as input from the user: an integer.  The integer must be less than 100.\n",
    "# Output – prints the prime numbers up to and including the user-entered integer.\n",
    "\n",
    "# Example: User enters 5\n",
    "#Output\n",
    "#2\n",
    "#3\n",
    "#5\n",
    "\n",
    "n = int(input(\"Please enter an integer value: \"))\n",
    "start = 1\n",
    "end = n\n",
    "for num in range(start, end+1):\n",
    "    if num>1:\n",
    "        for j in range(2,num):\n",
    "            if(num % j==0):\n",
    "                break\n",
    "        else:\n",
    "            print(num)"
   ]
  }
 ],
 "metadata": {
  "kernelspec": {
   "display_name": "Python 3 (ipykernel)",
   "language": "python",
   "name": "python3"
  },
  "language_info": {
   "codemirror_mode": {
    "name": "ipython",
    "version": 3
   },
   "file_extension": ".py",
   "mimetype": "text/x-python",
   "name": "python",
   "nbconvert_exporter": "python",
   "pygments_lexer": "ipython3",
   "version": "3.9.12"
  }
 },
 "nbformat": 4,
 "nbformat_minor": 2
}
